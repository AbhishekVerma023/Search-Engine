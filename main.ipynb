import nltk
import math
import urllib.request
from nltk.corpus import stopwords
from nltk.tokenize import word_tokenize
from nltk.stem import PorterStemmer
from nltk.tokenize import word_tokenize
from bs4 import BeautifulSoup

nltk.download('stopwords')
nltk.download('punkt')

def KMPSearch(pat, text, mydict):

    M = len(pat)
    N = len(text)

    p = 0
    lps = [0]*M
    j = 0 
 

    computeLPSArray(pat, M, lps)
 
    i = 0
    while i < N:
        if pat[j] == text[i].lower():
            i += 1
            j += 1
 
        if j == M:
            p += 1
            j = lps[j-1]
 

        elif i < N and pat[j] != text[i]:

            if j != 0:
                j = lps[j-1]
            else:
                i += 1      
    mydict.update({pat:p})
 
def computeLPSArray(pat, M, lps):
    len = 0 
    lps[0] 
    i=1

    while i < M:
        if pat[i] == pat[len]:
            len += 1
            lps[i] = len
            i += 1
        else:
            if len != 0:
                len = lps[len-1]

            else:
                lps[i] = 0
                i += 1


print("\t \t \t Search Engine using KMP Algorithm in Python")
string = input("Enter the search query : ")

tokens = nltk.word_tokenize(string)

stop_words = set(stopwords.words("english"))

filtered_string = []
for w in tokens:
       if w not in stop_words:
          filtered_string.append(w)
 
 
ps = PorterStemmer()
stemmed_string = []
for w in filtered_string:
       stemmed_string.append(ps.stem(w))
n = len(stemmed_string)
